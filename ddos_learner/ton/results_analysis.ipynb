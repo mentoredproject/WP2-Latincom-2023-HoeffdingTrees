{
 "cells": [
  {
   "cell_type": "code",
   "execution_count": null,
   "metadata": {},
   "outputs": [],
   "source": [
    "import pandas as pd\n",
    "import numpy as np\n",
    "import os\n",
    "while not os.path.exists('ddos_learner'):\n",
    "    os.chdir('../..')\n",
    "from ddos_learner.common import regenerate_plots\n",
    "\n"
   ]
  },
  {
   "cell_type": "code",
   "execution_count": 2,
   "metadata": {},
   "outputs": [
    {
     "name": "stdout",
     "output_type": "stream",
     "text": [
      "===f1===\n",
      "arf_ton/1691151387.csv: mean=0.9085791474561756 std=0.24261872429175577\n",
      "htd_adap_ton/1691149622.csv: mean=0.8952590712629679 std=0.26297809146610607\n",
      "srp_1_htd_ton/1691151788.csv: mean=0.9069989325856714 std=0.24164718646203445\n",
      "srp_10_htd_ton/1691155203.csv: mean=0.9008592737344819 std=0.247366524278184\n",
      "htd_ton/1691148893.csv: mean=0.9586752734519145 std=0.12300716336226417\n",
      "log_reg/1691148961.csv: mean=0.9167402497566024 std=0.16047203236351354\n",
      "srp_12_htd_ton/1691159174.csv: mean=0.9031693727456611 std=0.24761944925135637\n",
      "perc_ton/1691149018.csv: mean=0.6578901409423025 std=0.3355461193591133\n",
      "\n",
      "===acc===\n",
      "arf_ton/1691151387.csv: mean=0.9050206837695215 std=0.203483784873097\n",
      "htd_adap_ton/1691149622.csv: mean=0.8928686809403245 std=0.22816234200454694\n",
      "srp_1_htd_ton/1691151788.csv: mean=0.9024016862557487 std=0.20070058686676862\n",
      "srp_10_htd_ton/1691155203.csv: mean=0.8950080548130209 std=0.211839680571619\n",
      "htd_ton/1691148893.csv: mean=0.9424068125974994 std=0.1400475366031709\n",
      "log_reg/1691148961.csv: mean=0.8813327129294736 std=0.19357139392059391\n",
      "srp_12_htd_ton/1691159174.csv: mean=0.898986066884682 std=0.2119584050382984\n",
      "perc_ton/1691149018.csv: mean=0.5793465224980138 std=0.3444770834491737\n",
      "\n",
      "===prec_attack===\n",
      "arf_ton/1691151387.csv: mean=0.8939008617750067 std=0.25527226554480836\n",
      "htd_adap_ton/1691149622.csv: mean=0.8951259751383073 std=0.25435550216974934\n",
      "srp_1_htd_ton/1691151788.csv: mean=0.8936209164655964 std=0.2544427541418574\n",
      "srp_10_htd_ton/1691155203.csv: mean=0.8917347169733321 std=0.25491298324739614\n",
      "htd_ton/1691148893.csv: mean=0.9515187129827307 std=0.14861677507699633\n",
      "log_reg/1691148961.csv: mean=0.9312889094216324 std=0.1638797246208866\n",
      "srp_12_htd_ton/1691159174.csv: mean=0.8913757227539657 std=0.2549301376907706\n",
      "perc_ton/1691149018.csv: mean=0.824905441116831 std=0.2450387334560779\n",
      "\n",
      "===recl_attack===\n",
      "arf_ton/1691151387.csv: mean=0.9352880820711618 std=0.2343845954399331\n",
      "htd_adap_ton/1691149622.csv: mean=0.9200997869139944 std=0.26073059977668167\n",
      "srp_1_htd_ton/1691151788.csv: mean=0.9320473563273536 std=0.23390011655805867\n",
      "srp_10_htd_ton/1691155203.csv: mean=0.926226205235519 std=0.24455532827789325\n",
      "htd_ton/1691148893.csv: mean=0.9757024282803688 std=0.10095976527696578\n",
      "log_reg/1691148961.csv: mean=0.9262402781236354 std=0.16999730905934166\n",
      "srp_12_htd_ton/1691159174.csv: mean=0.9304248594555133 std=0.24381100464072755\n",
      "perc_ton/1691149018.csv: mean=0.6197296865967242 std=0.35513771768311514\n",
      "\n",
      "===prec_normal===\n",
      "arf_ton/1691151387.csv: mean=0.3671843124723611 std=0.4339134944505795\n",
      "htd_adap_ton/1691149622.csv: mean=0.4115480875584785 std=0.3998445705810854\n",
      "srp_1_htd_ton/1691151788.csv: mean=0.3167035014375461 std=0.36237734596467225\n",
      "srp_10_htd_ton/1691155203.csv: mean=0.33727683092562905 std=0.4244317980262926\n",
      "htd_ton/1691148893.csv: mean=0.504917110795602 std=0.3974980859161395\n",
      "log_reg/1691148961.csv: mean=0.2826875191884978 std=0.3438652557891113\n",
      "srp_12_htd_ton/1691159174.csv: mean=0.39528247509940084 std=0.43217071669267165\n",
      "perc_ton/1691149018.csv: mean=0.07554228469517459 std=0.16227843979579373\n",
      "\n",
      "===recl_normal===\n",
      "arf_ton/1691151387.csv: mean=0.33108158654048303 std=0.4004837873032679\n",
      "htd_adap_ton/1691149622.csv: mean=0.32674671467522043 std=0.3674116362968401\n",
      "srp_1_htd_ton/1691151788.csv: mean=0.3301289549644213 std=0.38898891968801635\n",
      "srp_10_htd_ton/1691155203.csv: mean=0.30782431450579817 std=0.37433997954565745\n",
      "htd_ton/1691148893.csv: mean=0.6225049981804456 std=0.3910912775849563\n",
      "log_reg/1691148961.csv: mean=0.3170470380020797 std=0.36436975488406176\n",
      "srp_12_htd_ton/1691159174.csv: mean=0.30390029412701336 std=0.37851801434631094\n",
      "perc_ton/1691149018.csv: mean=0.1278814380422098 std=0.24697020731611918\n",
      "\n",
      "===time===\n",
      "arf_ton/1691151387.csv: 1069.798380613327\n",
      "htd_adap_ton/1691149622.csv: 129.16029834747314\n",
      "srp_1_htd_ton/1691151788.csv: 277.36886382102966\n",
      "srp_10_htd_ton/1691155203.csv: 2719.989151954651\n",
      "htd_ton/1691148893.csv: 59.05417275428772\n",
      "log_reg/1691148961.csv: 25.369758129119877\n",
      "srp_12_htd_ton/1691159174.csv: 3162.697833299637\n",
      "perc_ton/1691149018.csv: 14.922399044036863\n",
      "\n"
     ]
    }
   ],
   "source": [
    "for stat in ['f1', 'acc', 'prec_attack', 'recl_attack', 'prec_normal', 'recl_normal']:\n",
    "    print(f\"==={stat}===\")\n",
    "    for subpath in os.listdir('stats'):\n",
    "            for timestamp in os.listdir(f'stats/{subpath}'):                        \n",
    "                df = pd.read_csv(f'stats/{subpath}/{timestamp}')\n",
    "                print(f\"{subpath}/{timestamp}: mean={df[stat].mean()} std={df[stat].std()}\")\n",
    "    print()\n",
    "print(f\"===time===\")\n",
    "for subpath in os.listdir('stats'):\n",
    "        for timestamp in os.listdir(f'stats/{subpath}'):                        \n",
    "            df = pd.read_csv(f'stats/{subpath}/{timestamp}')\n",
    "            print(f\"{subpath}/{timestamp}: {df['timest'][len(df)-1]}\")\n",
    "print()\n"
   ]
  },
  {
   "cell_type": "code",
   "execution_count": 3,
   "metadata": {},
   "outputs": [
    {
     "name": "stdout",
     "output_type": "stream",
     "text": [
      "arf_ton/1691151387.csv\n",
      "htd_adap_ton/1691149622.csv\n",
      "srp_1_htd_ton/1691151788.csv\n",
      "srp_10_htd_ton/1691155203.csv\n",
      "htd_ton/1691148893.csv\n",
      "log_reg/1691148961.csv\n",
      "srp_12_htd_ton/1691159174.csv\n",
      "perc_ton/1691149018.csv\n"
     ]
    }
   ],
   "source": [
    "regenerate_plots()"
   ]
  },
  {
   "cell_type": "code",
   "execution_count": null,
   "metadata": {},
   "outputs": [],
   "source": []
  }
 ],
 "metadata": {
  "kernelspec": {
   "display_name": "Python 3 (ipykernel)",
   "language": "python",
   "name": "python3"
  },
  "language_info": {
   "codemirror_mode": {
    "name": "ipython",
    "version": 3
   },
   "file_extension": ".py",
   "mimetype": "text/x-python",
   "name": "python",
   "nbconvert_exporter": "python",
   "pygments_lexer": "ipython3",
   "version": "3.11.3"
  }
 },
 "nbformat": 4,
 "nbformat_minor": 4
}
